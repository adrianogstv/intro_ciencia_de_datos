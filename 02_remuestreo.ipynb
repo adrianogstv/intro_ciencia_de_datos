{
 "cells": [
  {
   "cell_type": "code",
   "execution_count": 1,
   "metadata": {
    "collapsed": true
   },
   "outputs": [],
   "source": [
    "%matplotlib inline\n",
    "import numpy as np\n",
    "from scipy import stats\n",
    "import matplotlib.pyplot as plt\n",
    "import seaborn as sns\n",
    "palette = 'colorblind'\n",
    "sns.set_palette(palette); sns.set_color_codes(palette)"
   ]
  },
  {
   "cell_type": "markdown",
   "metadata": {},
   "source": [
    "Supongamos que tiramos al aire 20 veces una misma moneda y observamos 7 caras y 13 cecas. Está nuestra moneda sesgada? Difiere nuestro resultado de igual número de caras y cecas? O lo que estamos viendo es esperable para una moneda no sesgada?\n",
    "\n",
    "Para resolver esto asumamos que nuestros datos fueron generados por una moneda que cae con igual probabilidad cara que ceca. Llamaremos a esto H0. Si H0 es cierto ¿Cuál es la probabiliad de haber nuestros datos observado 7 caras y 13 cecas?\n",
    "\n",
    "Esto es posible calcularlo de forma teórica: \n",
    "\n",
    "\n",
    "$${\\binom {n}{k}}p^{k}(1-p)^{n-k} $$\n",
    "\n",
    "donde:\n",
    "\n",
    "lalala\n",
    "\n",
    "Pero nosotros lo vamos a calcular simulando la tirada de monedas:\n",
    "\n",
    "1. Vamos a asumir que la moneda tiene la misma chance de caer cara (1) o ceca (0)\n",
    "2. Vamos a lanzar una moneda 20 veces (igual que en nuestros datos)\n",
    "3. Vamos a repetir el punto 2 10000 veces\n",
    "4. Vamos a contar cuantas veces la moneda 7 caras o menos"
   ]
  },
  {
   "cell_type": "code",
   "execution_count": 2,
   "metadata": {},
   "outputs": [
    {
     "data": {
      "text/plain": [
       "7"
      ]
     },
     "execution_count": 2,
     "metadata": {},
     "output_type": "execute_result"
    }
   ],
   "source": [
    "monedas_obs = [1] * 7 + [0] * 13\n",
    "sum(monedas_obs)"
   ]
  },
  {
   "cell_type": "code",
   "execution_count": 3,
   "metadata": {},
   "outputs": [
    {
     "ename": "NameError",
     "evalue": "name 'caras_list' is not defined",
     "output_type": "error",
     "traceback": [
      "\u001b[0;31m---------------------------------------------------------------------------\u001b[0m",
      "\u001b[0;31mNameError\u001b[0m                                 Traceback (most recent call last)",
      "\u001b[0;32m<ipython-input-3-2a889b085b41>\u001b[0m in \u001b[0;36m<module>\u001b[0;34m()\u001b[0m\n\u001b[1;32m      7\u001b[0m     \u001b[0;32mif\u001b[0m \u001b[0mcaras\u001b[0m \u001b[0;34m<=\u001b[0m \u001b[0msum\u001b[0m\u001b[0;34m(\u001b[0m\u001b[0mmonedas_obs\u001b[0m\u001b[0;34m)\u001b[0m\u001b[0;34m:\u001b[0m\u001b[0;34m\u001b[0m\u001b[0m\n\u001b[1;32m      8\u001b[0m         \u001b[0mp\u001b[0m\u001b[0;34m.\u001b[0m\u001b[0mappend\u001b[0m\u001b[0;34m(\u001b[0m\u001b[0;36m1\u001b[0m\u001b[0;34m)\u001b[0m\u001b[0;34m\u001b[0m\u001b[0m\n\u001b[0;32m----> 9\u001b[0;31m \u001b[0msns\u001b[0m\u001b[0;34m.\u001b[0m\u001b[0mkdeplot\u001b[0m\u001b[0;34m(\u001b[0m\u001b[0mnp\u001b[0m\u001b[0;34m.\u001b[0m\u001b[0marray\u001b[0m\u001b[0;34m(\u001b[0m\u001b[0mcaras_list\u001b[0m\u001b[0;34m)\u001b[0m\u001b[0;34m)\u001b[0m\u001b[0;34m;\u001b[0m\u001b[0;34m\u001b[0m\u001b[0m\n\u001b[0m\u001b[1;32m     10\u001b[0m plt.axvline(sum(monedas_obs), 0., 0.8,\n\u001b[1;32m     11\u001b[0m             \u001b[0mlabel\u001b[0m\u001b[0;34m=\u001b[0m\u001b[0;34m'p = {:.3f}'\u001b[0m\u001b[0;34m.\u001b[0m\u001b[0mformat\u001b[0m\u001b[0;34m(\u001b[0m\u001b[0msum\u001b[0m\u001b[0;34m(\u001b[0m\u001b[0mp\u001b[0m\u001b[0;34m)\u001b[0m\u001b[0;34m/\u001b[0m\u001b[0mlen\u001b[0m\u001b[0;34m(\u001b[0m\u001b[0mcaras_list\u001b[0m\u001b[0;34m)\u001b[0m\u001b[0;34m)\u001b[0m\u001b[0;34m,\u001b[0m\u001b[0;34m\u001b[0m\u001b[0m\n",
      "\u001b[0;31mNameError\u001b[0m: name 'caras_list' is not defined"
     ]
    }
   ],
   "source": [
    "p = []\n",
    "caras_registro = []\n",
    "for i in range(0, 10000):\n",
    "    monedas_sim = np.random.randint(0, 2, size=30)\n",
    "    caras = sum(monedas_sim)\n",
    "    caras_registro.append(caras)\n",
    "    if caras <= sum(monedas_obs):\n",
    "        p.append(1)\n",
    "sns.kdeplot(np.array(caras_list));\n",
    "plt.axvline(sum(monedas_obs), 0., 0.8,\n",
    "            label='p = {:.3f}'.format(sum(p)/len(caras_list)),\n",
    "            color='r')\n",
    "plt.legend();"
   ]
  },
  {
   "cell_type": "markdown",
   "metadata": {},
   "source": [
    "\"Se rechaza la hipótesis nula\" con un p < 0.003  (y un alpha de 0.05). Explicar de donde sale el alpha y por que todo esto no solo suena atravezado si no que lo es!"
   ]
  },
  {
   "cell_type": "code",
   "execution_count": null,
   "metadata": {},
   "outputs": [],
   "source": [
    "a = stats.norm.rvs(37, 7, 10)\n",
    "b = stats.norm.rvs(34, 7, 10)\n",
    "a_media = a.mean()\n",
    "b_media = b.mean()\n",
    "ab_dif_obs = abs(a_media - b_media)\n",
    "ab_dif_obs"
   ]
  },
  {
   "cell_type": "code",
   "execution_count": null,
   "metadata": {},
   "outputs": [],
   "source": [
    "sns.kdeplot(a)\n",
    "sns.kdeplot(b);"
   ]
  },
  {
   "cell_type": "markdown",
   "metadata": {},
   "source": [
    "## t-test e hipótesis nula\n"
   ]
  },
  {
   "cell_type": "markdown",
   "metadata": {},
   "source": [
    "Dados dos grupos de datos como los anteriores. La pregunta típica de una clase típica de estadística es:\n",
    "    \n",
    "    Dado el grupo de datos \"a\" y el grupo de datos \"b\" queremos saber si las medias de ambos grupos difieren \"significativamente\". \n",
    "\n",
    "Simplifiguemos y evaluemos si las medias difieren. Para responder a esta pregunta lo que se hace es lo siguiente. Se asume que ambos grupos NO difieren y se calcula la probabilidad de observar los datos que estamos observando si nuestro supuesto se cumple. Es decir calculamos:\n",
    "\n",
    "$$p(D|y)$$ \n",
    "\n",
    "asumiendo que $$\\hat a = \\hat b$$"
   ]
  },
  {
   "cell_type": "markdown",
   "metadata": {},
   "source": [
    "poner formula acá y dar explicación teorica.\n",
    "Esto se puede calcular usando el paquete para Python statsmodels. Pero nosotros en vez de calcularlo teóricamente vamos a aproximar el resultado haciendo simulaciones! Veamos."
   ]
  },
  {
   "cell_type": "code",
   "execution_count": null,
   "metadata": {},
   "outputs": [],
   "source": [
    "medias = []\n",
    "p = []\n",
    "c = np.concatenate((a, b))\n",
    "for i in range(0, 10000):\n",
    "    np.random.shuffle(c)\n",
    "    a_reshuffled = c[:len(a)]\n",
    "    b_reshuffled = c[len(a):]\n",
    "    media_shuffled = a_reshuffled.mean() - b_reshuffled.mean()\n",
    "    if media_shuffled >= ab_dif_obs:\n",
    "        p.append(1)\n",
    "    medias.append(media_shuffled)\n",
    "        \n",
    "sns.kdeplot(np.array(medias))\n",
    "plt.axvline(ab_dif_obs, 0., 0.8,\n",
    "            label='p = {:.3f}'.format(sum(p)/len(caras_list)),\n",
    "            color='r')\n",
    "plt.legend();"
   ]
  },
  {
   "cell_type": "markdown",
   "metadata": {},
   "source": [
    "## tamaño del efecto!"
   ]
  },
  {
   "cell_type": "code",
   "execution_count": null,
   "metadata": {},
   "outputs": [],
   "source": [
    "c = np.random.choice(a, 1000) - np.random.choice(b, 1000)\n",
    "sns.kdeplot(c)"
   ]
  },
  {
   "cell_type": "markdown",
   "metadata": {},
   "source": [
    "esto es la probabilidad que a y b difieran en cierta cantidad siempre asumiendo"
   ]
  },
  {
   "cell_type": "code",
   "execution_count": null,
   "metadata": {
    "collapsed": true
   },
   "outputs": [],
   "source": []
  },
  {
   "cell_type": "code",
   "execution_count": null,
   "metadata": {
    "collapsed": true
   },
   "outputs": [],
   "source": [
    "## bootstrapping"
   ]
  },
  {
   "cell_type": "code",
   "execution_count": null,
   "metadata": {
    "collapsed": true
   },
   "outputs": [],
   "source": []
  }
 ],
 "metadata": {
  "kernelspec": {
   "display_name": "Python 3",
   "language": "python",
   "name": "python3"
  },
  "language_info": {
   "codemirror_mode": {
    "name": "ipython",
    "version": 3
   },
   "file_extension": ".py",
   "mimetype": "text/x-python",
   "name": "python",
   "nbconvert_exporter": "python",
   "pygments_lexer": "ipython3",
   "version": "3.5.2"
  }
 },
 "nbformat": 4,
 "nbformat_minor": 2
}
